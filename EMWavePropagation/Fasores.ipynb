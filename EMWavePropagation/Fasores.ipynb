{
  "nbformat": 4,
  "nbformat_minor": 0,
  "metadata": {
    "colab": {
      "name": "Fasores.ipynb",
      "provenance": [],
      "collapsed_sections": []
    },
    "kernelspec": {
      "name": "python3",
      "display_name": "Python 3"
    }
  },
  "cells": [
    {
      "cell_type": "markdown",
      "metadata": {
        "id": "yNv7d0WrgmYY",
        "colab_type": "text"
      },
      "source": [
        "[![Open In Colab](https://colab.research.google.com/assets/colab-badge.svg)](https://colab.research.google.com/github/FerneyOAmaya//Photonics/blob/master/EMWavePropagation/Fasores.ipynb)\n",
        "\n",
        "# Fasores con numpy\n",
        "\n",
        "Se presentan las principales características de un fasor y como puede operarse con fasores empleando la librería **numpy** de Python.\n",
        "\n",
        "Se recomienda revisar el documento:<br>\n",
        "[Introducción a Python](https://nbviewer.jupyter.org/github/FerneyOAmaya/DataLiteracy/blob/master/0_Python.ipynb)\n",
        "<br>\n",
        "\n",
        "Por:\n",
        "\n",
        "Ferney Amaya Fernández\n",
        "https://ferneyoamaya.github.io/\n",
        "\n",
        "\n",
        "Contenido:\n",
        "1. Respresentación Fasorial.\n",
        "2. Fasores con numpy.\n",
        "<br>Referencias."
      ]
    },
    {
      "cell_type": "markdown",
      "metadata": {
        "id": "Mg5gdfcZhLzw",
        "colab_type": "text"
      },
      "source": [
        "## 1.Respresentación Fasorial.\n",
        "\n",
        "Un fasor es una forma abreviada de representar señales senoidales.\n",
        "\n",
        "El fasor $F$ puede escribirse como:\n",
        "$$F = M \\angle \\theta  $$\n",
        "\n",
        "donde:\n",
        "- $M$ es la magnitud del fasor.\n",
        "- $\\theta$ es el ángulo del fasor.\n",
        "<br><br>\n",
        "\n",
        "En forma abreviada el fasor $F$ representa un número complejo que en coordenadas polares:\n",
        "\n",
        "$$F = M  e^{j\\theta}$$\n",
        "\n",
        "que también puede escribirse en coordenadas cartesianas:\n",
        "\n",
        "$$F = M  cos(\\theta) + \\, jM sin(\\theta) $$\n",
        "\n",
        "Es importante indicar si el ángulo del fasor está en grados o en radianes.\n",
        "<br><br>\n",
        "\n",
        "Por ejemplo, el fasor $F = 4 \\angle 35^\\circ$ tiene una magnitud de $4$ y un ángulo de $35^\\circ$ (grados).\n",
        "\n",
        "### 1.1. Ecuaciones\n",
        "\n",
        "Para el siguiente fasor:\n",
        "\n",
        "$$F = X + \\, jY = M e^{j\\theta} $$\n",
        "\n",
        "Las ecuaciones para pasar de la representación cartesiana a la polar son:\n",
        "- De cartesiana a polar:\n",
        "\n",
        "$$M = \\sqrt{X^2 + Y^2}$$ <br>\n",
        "$$\\theta = atan \\frac{Y}{X}$$\n",
        "\n",
        "- De polar a cartesiana:\n",
        "\n",
        "$$X = Mcos(\\theta)$$<br>\n",
        "$$Y = Msin(\\theta)$$\n",
        "\n",
        "### 1.2. Ejemplo:\n",
        "\n",
        "- Enunciado:\n",
        "\n",
        "Representar el fasor $F = 2 + \\, j3$ en forma polar,\n",
        "\n",
        "- Solución:\n",
        "$$X = 2$$\n",
        "$$Y = 3$$\n",
        "\n",
        "hallamos la magnitud y la fase:<br>\n",
        "$$M = \\sqrt{2^2 + 3^2} = \\sqrt{4 + 9} = \\sqrt{13} = 3.61$$\n",
        "<br>\n",
        "$$\\theta = atan \\, (3/2) = atan \\, (1.5) = 53.31^\\circ = 0.98 \\, rad $$\n",
        "<br>\n",
        "- Gráfico: se graficará el fasor.\n"
      ]
    },
    {
      "cell_type": "code",
      "metadata": {
        "id": "TD634mufrAj9",
        "colab_type": "code",
        "colab": {
          "base_uri": "https://localhost:8080/",
          "height": 355
        },
        "outputId": "809f7292-6ebc-4766-fac2-c2a4ecd3e62d"
      },
      "source": [
        "#@title {display-mode: \"form\"}\n",
        "import matplotlib.pyplot as plt\n",
        "import matplotlib.patches as mpatches\n",
        "\n",
        "fig, ax = plt.subplots(figsize=(5, 5))\n",
        "ax.axis([0,5,0,5])\n",
        "ax.grid()\n",
        "plt.plot([0, 2], [0, 3], 'r-', lw=4)\n",
        "ax.scatter(2,3,s=150, color='b')\n",
        "plt.plot([0, 2], [0, 0], 'k-', lw=4)\n",
        "plt.plot([0.05, 0.05], [0.05, 3], 'k-', lw=4)\n",
        "pac = mpatches.Arc([0, 0], 0.8, 0.8, angle=0, theta1=0, theta2=53, lw=4, color='r')\n",
        "ax.add_patch(pac)\n",
        "\n",
        "ax.annotate('M=3.61', xy=(1.2, 1.5), xytext=(1.2, 1.5),size=14,color='r')\n",
        "ax.annotate(r'$\\theta = 53°$', xy=(0.6, 0.6), xytext=(0.6, 0.6),size=14,color='r')\n",
        "ax.annotate('X=2', xy=(1, 0.1), xytext=(1, 0.1),size=14,color='k')\n",
        "ax.annotate('Y=3', xy=(0.1, 1.5), xytext=(0.1, 1.5),size=14,color='k')\n",
        "ax.annotate('(2 + 3j)', xy=(1.6, 3.15), xytext=(1.6, 3.15),size=14,color='b')\n",
        "ax.set_xlabel('Real',fontsize=14)\n",
        "ax.set_ylabel('Imaginario',fontsize=14)\n",
        "ax.set_title('Fasor: representación cartesiana y polar', fontsize=14)\n",
        "fig.show()\n"
      ],
      "execution_count": null,
      "outputs": [
        {
          "output_type": "display_data",
          "data": {
            "image/png": "[encoded data removed]",
            "text/plain": [
              "<Figure size 360x360 with 1 Axes>"
            ]
          },
          "metadata": {
            "tags": [],
            "needs_background": "light"
          }
        }
      ]
    },
    {
      "cell_type": "markdown",
      "metadata": {
        "id": "VHNYjtv061SA",
        "colab_type": "text"
      },
      "source": [
        "## 2.Fasores con numpy.\n",
        "\n",
        "La librería **numpy** permite trabajar con numeros complejos, por lo tanto con fasores.\n",
        "\n",
        "Primero se importa la biblioteca:\n"
      ]
    },
    {
      "cell_type": "code",
      "metadata": {
        "id": "QSkvfFeh7VVI",
        "colab_type": "code",
        "colab": {}
      },
      "source": [
        "import numpy as np"
      ],
      "execution_count": 86,
      "outputs": []
    },
    {
      "cell_type": "markdown",
      "metadata": {
        "id": "yceO6ZBY8r7U",
        "colab_type": "text"
      },
      "source": [
        "Puede crearse una variable con un único número complejo o un arreglo con varios números complejos:"
      ]
    },
    {
      "cell_type": "code",
      "metadata": {
        "id": "LwmEhmnK98xy",
        "colab_type": "code",
        "colab": {
          "base_uri": "https://localhost:8080/",
          "height": 34
        },
        "outputId": "28c48794-6f81-416e-b5da-714a9f732831"
      },
      "source": [
        "F = 2 + 3j\n",
        "arreglo = np.array([1+2j,2+3j,2+0.3j])\n",
        "print(arreglo)"
      ],
      "execution_count": null,
      "outputs": [
        {
          "output_type": "stream",
          "text": [
            "[1.+2.j  2.+3.j  2.+0.3j]\n"
          ],
          "name": "stdout"
        }
      ]
    },
    {
      "cell_type": "markdown",
      "metadata": {
        "id": "Iv78nwigBBB-",
        "colab_type": "text"
      },
      "source": [
        "El número $\\pi$:"
      ]
    },
    {
      "cell_type": "code",
      "metadata": {
        "id": "9o9X3xJ0BAP8",
        "colab_type": "code",
        "colab": {
          "base_uri": "https://localhost:8080/",
          "height": 34
        },
        "outputId": "b61f2c71-fcb9-419d-f73b-23a96c626fba"
      },
      "source": [
        "np.pi"
      ],
      "execution_count": null,
      "outputs": [
        {
          "output_type": "execute_result",
          "data": {
            "text/plain": [
              "3.141592653589793"
            ]
          },
          "metadata": {
            "tags": []
          },
          "execution_count": 80
        }
      ]
    },
    {
      "cell_type": "markdown",
      "metadata": {
        "id": "Zy0FuFN--SYQ",
        "colab_type": "text"
      },
      "source": [
        "Pueden realizarse operaciones simples entre números complejos:"
      ]
    },
    {
      "cell_type": "code",
      "metadata": {
        "id": "SKo3Sbf6-Ylr",
        "colab_type": "code",
        "colab": {
          "base_uri": "https://localhost:8080/",
          "height": 102
        },
        "outputId": "a0737667-f8ec-4d60-b770-2d025a9152d8"
      },
      "source": [
        "F = 2 + 3j\n",
        "H = 4 + 5j\n",
        "print('Suma:           ',F+H)\n",
        "print('Resta:          ',F-H)\n",
        "print('Multiplicación: ',F*H)\n",
        "print('División:       ',F/H)\n",
        "print('Potenciación:   ',F**2)"
      ],
      "execution_count": null,
      "outputs": [
        {
          "output_type": "stream",
          "text": [
            "Suma:            (6+8j)\n",
            "Resta:           (-2-2j)\n",
            "Multiplicación:  (-7+22j)\n",
            "División:        (0.5609756097560976+0.0487804878048781j)\n",
            "Potenciación:    (-5+12j)\n"
          ],
          "name": "stdout"
        }
      ]
    },
    {
      "cell_type": "markdown",
      "metadata": {
        "id": "K-RvhwQt_gPG",
        "colab_type": "text"
      },
      "source": [
        "Pueden aplicarse algunas funciones a los números complejos:"
      ]
    },
    {
      "cell_type": "code",
      "metadata": {
        "id": "o7WAT6aV_tGg",
        "colab_type": "code",
        "colab": {
          "base_uri": "https://localhost:8080/",
          "height": 102
        },
        "outputId": "3ba41e18-a5b6-4d0f-f54c-100d24f1eb46"
      },
      "source": [
        "F = 2 + 3j\n",
        "print('coseno         : ', np.cos(F))\n",
        "print('seno           : ', np.sin(F))\n",
        "print('exponenciación : ', np.exp(F))\n",
        "print('raiz           : ', np.sqrt(F))\n",
        "print('tangente       : ', np.tan(F))\n"
      ],
      "execution_count": null,
      "outputs": [
        {
          "output_type": "stream",
          "text": [
            "coseno         :  (-4.189625690968807-9.109227893755337j)\n",
            "seno           :  (9.15449914691143-4.168906959966565j)\n",
            "exponenciación :  (-7.315110094901103+1.0427436562359045j)\n",
            "raiz           :  (1.6741492280355401+0.8959774761298381j)\n",
            "tangente       :  (-0.0037640256415042484+1.0032386273536096j)\n"
          ],
          "name": "stdout"
        }
      ]
    },
    {
      "cell_type": "markdown",
      "metadata": {
        "id": "9OPHXz2MAsb1",
        "colab_type": "text"
      },
      "source": [
        "Funciones aplicadas a fasores, por ejemplo, si esta en representación cartesiana:"
      ]
    },
    {
      "cell_type": "code",
      "metadata": {
        "id": "tJEomwUCBMdm",
        "colab_type": "code",
        "colab": {
          "base_uri": "https://localhost:8080/",
          "height": 102
        },
        "outputId": "ab1e22b7-e75a-4017-9e21-c0dc34ae18b5"
      },
      "source": [
        "F = 2 + 3J\n",
        "print('Magnitud         : ', np.abs(F))\n",
        "print('Ángulo           : ', np.angle(F), 'radianes')\n",
        "print('Parte real       : ', np.real(F))\n",
        "print('Parte imaginaria : ', np.imag(F))\n",
        "print('Conjugado        : ', np.conj(F))"
      ],
      "execution_count": 88,
      "outputs": [
        {
          "output_type": "stream",
          "text": [
            "Magnitud         :  3.605551275463989\n",
            "Ángulo           :  0.982793723247329 radianes\n",
            "Parte real       :  2.0\n",
            "Parte imaginaria :  3.0\n",
            "Conjugado        :  (2-3j)\n"
          ],
          "name": "stdout"
        }
      ]
    },
    {
      "cell_type": "markdown",
      "metadata": {
        "id": "E2izawBDB7MB",
        "colab_type": "text"
      },
      "source": [
        "Funciones aplicadas a fasores, por ejemplo, si esta en representación fasorial:"
      ]
    },
    {
      "cell_type": "code",
      "metadata": {
        "id": "qC8n9VF58sRT",
        "colab_type": "code",
        "colab": {
          "base_uri": "https://localhost:8080/",
          "height": 102
        },
        "outputId": "cec5f48b-72bb-435e-c131-be4af865d35e"
      },
      "source": [
        "F = 3.605551*np.exp(0.982793j)\n",
        "print('Magnitud         : ', np.abs(F))\n",
        "print('Ángulo           : ', np.angle(F), 'radianes')\n",
        "print('Parte real       : ', np.real(F))\n",
        "print('Parte imaginaria : ', np.imag(F))\n",
        "print('Conjugado        : ', np.conj(F))"
      ],
      "execution_count": 89,
      "outputs": [
        {
          "output_type": "stream",
          "text": [
            "Magnitud         :  3.6055509999999997\n",
            "Ángulo           :  0.982793 radianes\n",
            "Parte real       :  2.0000020169413695\n",
            "Parte imaginaria :  2.9999983243047743\n",
            "Conjugado        :  (2.0000020169413695-2.9999983243047743j)\n"
          ],
          "name": "stdout"
        }
      ]
    }
  ]
}