{
  "nbformat": 4,
  "nbformat_minor": 0,
  "metadata": {
    "kernelspec": {
      "display_name": "Python 3",
      "language": "python",
      "name": "python3"
    },
    "language_info": {
      "codemirror_mode": {
        "name": "ipython",
        "version": 3
      },
      "file_extension": ".py",
      "mimetype": "text/x-python",
      "name": "python",
      "nbconvert_exporter": "python",
      "pygments_lexer": "ipython3",
      "version": "3.6.5"
    },
    "colab": {
      "name": "MediosElectricos.ipynb",
      "provenance": [],
      "collapsed_sections": [],
      "toc_visible": true
    }
  },
  "cells": [
    {
      "cell_type": "markdown",
      "metadata": {
        "id": "X7M8_5GR-YgU",
        "colab_type": "text"
      },
      "source": [
        "[![Open In Colab](https://colab.research.google.com/assets/colab-badge.svg)](https://colab.research.google.com/github/FerneyOAmaya//Photonics/blob/master/EMWavePropagation/MediosElectricos.ipynb)\n",
        "\n",
        "# Medios eléctricos: Buenos conductores y buenos aislantes\n",
        "\n",
        "Se presentan las principales características, desde el punto de vista eléctrico, para identificar un buen aislante de un buen conductor. Esto depende del material y de la frecuencia de la onda electromagnetica que se propaga a través de este.\n",
        "\n",
        "Por:\n",
        "\n",
        "Ferney Amaya Fernández\n",
        "https://ferneyoamaya.github.io/\n",
        "\n",
        "\n",
        "Contenido:\n",
        "1. Ecuaciones generales.\n",
        "2. Tangente de pérdidas.\n",
        "3. Buenos dieléctricos.\n",
        "4. Buenos conductores.\n",
        "5. Ejercicio interactivo: dependencia de la frecuencia.\n",
        "\n",
        "Referencias."
      ]
    },
    {
      "cell_type": "markdown",
      "metadata": {
        "id": "pkkkNbZg-YgY",
        "colab_type": "text"
      },
      "source": [
        "## 1.Ecuaciones generales.\n",
        "\n",
        "La ecuación para el campo eléctrico incidente de una onda polarizada linealmente para medios dieléctricos y conductores puede expresarse como:\n",
        "<br><br>\n",
        "$$\\large E(z,t) = e^{-\\alpha z} cos(\\omega t - \\beta z) \\, [V/m]$$<br>\n",
        "$$\\large \\gamma = \\alpha + j\\, \\beta \\, [1/m]$$ <br>\n",
        "donde:\n",
        "$$\\alpha = \\frac{\\omega \\sqrt{\\mu \\epsilon}}{\\sqrt{2}} \\left(\\sqrt{1 + \\left(\\frac{\\sigma}{\\omega \\epsilon}\\right)^2}-1 \\right)^{1/2} \\, [Np/m]$$\n",
        "\n",
        "$$\\beta = \\frac{\\omega \\sqrt{\\mu \\epsilon}}{\\sqrt{2}} \\left(\\sqrt{1 + \\left(\\frac{\\sigma}{\\omega \\epsilon}\\right)^2}+1 \\right)^{1/2} \\, [rad/m]$$\n",
        "\n",
        "- $\\gamma$ es la constante de propagación de la onda [1/m] <br>\n",
        "- $\\alpha$ es la constante de atenuación de la onda [1/m] <br>\n",
        "- $\\beta$ es la constante de fase de la onda [rad/m] \n",
        "- $\\omega$ es la frecuencia angular de la señal [rad/s] <br>\n",
        "- $\\sigma$ es la conductividad [S/m] <br>\n",
        "- $\\epsilon$ es la permitividad del medio [F/m] <br>\n",
        "- $\\mu$ es la permeabilidad del medio [H/m]\n",
        "\n",
        "NOTA 1: Np = Neper. <br>\n",
        "NOTA 2: S = Siemen, $S = 1/\\Omega$ .\n",
        "\n",
        "La permitividad del material $\\epsilon$ se calcula a partir de la permitividad del vacío $\\epsilon_0$ y la permitividad relativa del material $\\epsilon_r$ que se encuentra tabulada disponible en la web o en libros especializados:\n",
        "\n",
        "$$\\epsilon = \\epsilon_0 \\cdot \\epsilon_r$$<br>\n",
        "\n",
        "donde la permitividad del vacío:\n",
        "\n",
        "$$\\epsilon_0 = 8.8542 \\times 10^{-12} \\, [F/m]$$<br>\n"
      ]
    },
    {
      "cell_type": "code",
      "metadata": {
        "id": "bNMZJ9c2EOnh",
        "colab_type": "code",
        "colab": {}
      },
      "source": [
        "e0 = 8.8542e-12;"
      ],
      "execution_count": null,
      "outputs": []
    },
    {
      "cell_type": "markdown",
      "metadata": {
        "id": "NGXLZu6LE_si",
        "colab_type": "text"
      },
      "source": [
        "La permeabilidad del material $\\mu$ se calcula a partir de la permeabilidad del vacío $\\mu_0$ y la permeabilidad relativa del material $\\mu_r$ que se encuentra tabulada disponible en la web o en libros especializados:\n",
        "\n",
        "$$\\mu = \\mu_0 \\cdot \\mu_r$$<br>\n",
        "\n",
        "donde la permeabilidad del vacío:\n",
        "\n",
        "$$\\mu_0 = 4\\pi \\times \\, 10^{-7} = 1.2566 \\times 10^{-6} \\, [H/m]  $$<br>\n"
      ]
    },
    {
      "cell_type": "code",
      "metadata": {
        "id": "kdwe9xdrGCJO",
        "colab_type": "code",
        "colab": {}
      },
      "source": [
        "u0 = 1.2566e-6;"
      ],
      "execution_count": null,
      "outputs": []
    },
    {
      "cell_type": "markdown",
      "metadata": {
        "id": "_Zl1SwXyEPXN",
        "colab_type": "text"
      },
      "source": [
        "\n",
        "Otras ecuaciones que pueden emplearse para todos los tipos de materiales son:\n",
        "\n",
        "\n",
        "$$\\large v = \\lambda \\, f = \\frac{\\omega}{\\beta} \\, [m/s]$$<br>\n",
        "$$\\large \\beta = \\frac{2 \\, \\pi}{\\lambda} \\, [rad/m]$$<br>\n",
        "$$\\large \\delta = \\frac{1}{\\alpha} \\, [m]$$<br>\n",
        "$$\\large \\sigma = \\frac{1}{\\rho} \\, [S/m]$$\n",
        "donde: <br>\n",
        "\n",
        "- $v$ es la velocidad de propagación de la onda [m/s]<br>\n",
        "- $\\lambda$ es la longitud de onda [m] <br>\n",
        "- f es la frecuencia de la onda [Hz] <br>\n",
        "- $\\delta$ es la profundidad de penetración [m] <br>\n",
        "- $\\rho$ es la resistividad del material [$\\Omega$.m] <br>"
      ]
    },
    {
      "cell_type": "markdown",
      "metadata": {
        "id": "zkqlF9HZ-Yga",
        "colab_type": "text"
      },
      "source": [
        "## 2.Tangente de pérdidas.\n",
        "\n",
        "Para calcular las características de propagación de las ondas, primero debe determinarse si el medio se comporta como buen dieléctrico o buen conductor.\n",
        "Esto se realiza calculando la **tangente de pérdidas**:\n",
        "$$\\large tan \\, \\delta = \\frac{\\sigma}{\\omega \\epsilon}$$\n",
        "El valor de la tangente de perdidas determinará el comportamiento del material, si:\n",
        "- $tan \\, \\delta > 100$ el material se comporta como buen conductor <br>\n",
        "- $tan \\, \\delta < 1/100$ el material se comporta como buen dieléctrico <br>\n",
        "- En otro caso el material se comporta como buen semiconductor."
      ]
    },
    {
      "cell_type": "markdown",
      "metadata": {
        "id": "r6FuQPxj-Yhm",
        "colab_type": "text"
      },
      "source": [
        "## 3.Buenos dieléctricos\n",
        "\n",
        "En un buen dieléctrico se cumple $tan \\, \\delta < 1/100$<br>\n",
        "\n",
        "Por ejemplo, una onda de RF a través de polietileno:\n",
        "- Frecuencia 1 kHz\n",
        "- $\\epsilon_r = 2.6$\n",
        "- $\\mu_r = 1$\n",
        "- $tand = 0.20 \\times 10^{-3}$\n",
        "\n",
        "Se definen las variables en Python:"
      ]
    },
    {
      "cell_type": "code",
      "metadata": {
        "id": "u-Nko24o-Yho",
        "colab_type": "code",
        "colab": {}
      },
      "source": [
        "fd = 1e3;\n",
        "erd = 1;\n",
        "urd = 1;\n",
        "tandd = 0.2e-3;"
      ],
      "execution_count": null,
      "outputs": []
    },
    {
      "cell_type": "markdown",
      "metadata": {
        "id": "mbNIMBRC-Yhy",
        "colab_type": "text"
      },
      "source": [
        "Algunos parámetros de la onda:"
      ]
    },
    {
      "cell_type": "code",
      "metadata": {
        "id": "jZ3g2T_f-Yh0",
        "colab_type": "code",
        "colab": {
          "base_uri": "https://localhost:8080/",
          "height": 102
        },
        "outputId": "d56c0624-faab-44cb-aef9-34724daf3cca"
      },
      "source": [
        "omegad = 2*np.pi*fd;\n",
        "ed = e0*erd;\n",
        "ud = u0*urd;\n",
        "sigmad = tandd*omegad*ed;\n",
        "alphad = omegad*np.sqrt(ud*ed/2)*np.sqrt(np.sqrt(1+tandd**2)-1);\n",
        "betad  = omegad*np.sqrt(ud*ed/2)*np.sqrt(np.sqrt(1+tandd**2)+1);\n",
        "lambdad = 2*np.pi/betad;\n",
        "vd = lambdad*fd;\n",
        "\n",
        "print('sigma  : %.3e S/m' % sigmad)\n",
        "print('alpha  : %.3e 1/m' % alphad)\n",
        "print('beta   : %.3e rad/m' % betad)\n",
        "print('lambda : %.3e m' % lambdad)\n",
        "print('v      : %.3e m/s' % vd)"
      ],
      "execution_count": null,
      "outputs": [
        {
          "output_type": "stream",
          "text": [
            "sigma  : 1.113e-11 S/m\n",
            "alpha  : 2.096e-09 1/m\n",
            "beta   : 2.096e-05 rad/m\n",
            "lambda : 2.998e+05 m\n",
            "v      : 2.998e+08 m/s\n"
          ],
          "name": "stdout"
        }
      ]
    },
    {
      "cell_type": "markdown",
      "metadata": {
        "id": "c9sbo9rR-YiB",
        "colab_type": "text"
      },
      "source": [
        "La gráfica del campo eléctrico en función de la distancia:"
      ]
    },
    {
      "cell_type": "code",
      "metadata": {
        "id": "WZrjt8ev-YiD",
        "colab_type": "code",
        "colab": {
          "base_uri": "https://localhost:8080/",
          "height": 299
        },
        "outputId": "b8906b80-2b0c-4a1b-a7bc-33b95797e010"
      },
      "source": [
        "zd = np.arange(0,3*lambdad,lambdad/20);\n",
        "Envd = np.exp(-alphad*zd);\n",
        "Ezpd = Envd*np.cos(-betad*zd);\n",
        "plt.axis([0, 3, -1.2, 1.2])\n",
        "plt.xlabel('Distancia z/$\\lambda$')\n",
        "plt.ylabel('E (V/m)')\n",
        "plt.plot(zd/lambdad, Ezpd);\n",
        "plt.plot(zd/lambdad, Envd,'--');\n",
        "plt.legend(['E','Envolvente'])"
      ],
      "execution_count": null,
      "outputs": [
        {
          "output_type": "execute_result",
          "data": {
            "text/plain": [
              "<matplotlib.legend.Legend at 0x7f5e1ab2f978>"
            ]
          },
          "metadata": {
            "tags": []
          },
          "execution_count": 10
        },
        {
          "output_type": "display_data",
          "data": {
            "image/png": "[encoded data removed]",
            "text/plain": [
              "<Figure size 432x288 with 1 Axes>"
            ]
          },
          "metadata": {
            "tags": [],
            "needs_background": "light"
          }
        }
      ]
    },
    {
      "cell_type": "markdown",
      "metadata": {
        "id": "pQRe2EsG-Ygv",
        "colab_type": "text"
      },
      "source": [
        "## 4.Buenos conductores\n",
        "\n",
        "En un buen conductor se cumple $tan \\, \\delta > 100$.\n",
        "\n",
        "Por ejemplo, una onda de RF propagándose a través del cobre:\n",
        "- Frecuencia 1 GHz\n",
        "- $\\epsilon_r = 1$\n",
        "- $\\mu_r = 1$\n",
        "- $\\sigma = 5.8 \\times 10^7$ [S/m]"
      ]
    },
    {
      "cell_type": "markdown",
      "metadata": {
        "id": "zce3gnLl-Ygd",
        "colab_type": "text"
      },
      "source": [
        "A continuación se graficará el Campo Eléctrico y se calcularán algunos valores de la onda.\n",
        "\n",
        "Para esto se inicializa la librería **numpy** y se definen las variables en Python:"
      ]
    },
    {
      "cell_type": "code",
      "metadata": {
        "id": "nBHGe_Bb-Ygx",
        "colab_type": "code",
        "colab": {}
      },
      "source": [
        "import numpy as np\n",
        "fc = 1e9;\n",
        "erc = 1;\n",
        "urc = 1;\n",
        "sigmac = 5.8e7;"
      ],
      "execution_count": null,
      "outputs": []
    },
    {
      "cell_type": "markdown",
      "metadata": {
        "id": "d6260fvV-Yg-",
        "colab_type": "text"
      },
      "source": [
        "Se calculan algunos parámetros de la onda:"
      ]
    },
    {
      "cell_type": "code",
      "metadata": {
        "id": "Q2nUZwUm-YhC",
        "colab_type": "code",
        "colab": {
          "base_uri": "https://localhost:8080/",
          "height": 102
        },
        "outputId": "679a1cd0-4768-4961-ef0c-21a0a58a0dbc"
      },
      "source": [
        "omegac = 2*np.pi*fc;\n",
        "ec = e0*erc;\n",
        "uc = u0*urc;\n",
        "tandc = sigmac/(omegac*ec);\n",
        "alphac = omegac*np.sqrt(uc*ec/2)*np.sqrt(np.sqrt(1+tandc**2)-1);\n",
        "betac  = omegac*np.sqrt(uc*ec/2)*np.sqrt(np.sqrt(1+tandc**2)+1);\n",
        "lambdac = 2*np.pi/betac;\n",
        "vc = lambdac*fc;\n",
        "\n",
        "print('tand   : %.3e' % tandc)\n",
        "print('alpha  : %.3e 1/m' % alphac)\n",
        "print('beta   : %.3e rad/m' % betac)\n",
        "print('lambda : %.3e m' % lambdac)\n",
        "print('v      : %.3e m/s' % vc)"
      ],
      "execution_count": null,
      "outputs": [
        {
          "output_type": "stream",
          "text": [
            "tand   : 1.043e+09\n",
            "alpha  : 4.785e+05 1/m\n",
            "beta   : 4.785e+05 rad/m\n",
            "lambda : 1.313e-05 m\n",
            "v      : 1.313e+04 m/s\n"
          ],
          "name": "stdout"
        }
      ]
    },
    {
      "cell_type": "markdown",
      "metadata": {
        "id": "AMjhnmq7-YhY",
        "colab_type": "text"
      },
      "source": [
        "La gráfica del campo eléctrico en función de la distancia:"
      ]
    },
    {
      "cell_type": "code",
      "metadata": {
        "id": "a2PqYOHK-Yhb",
        "colab_type": "code",
        "colab": {
          "base_uri": "https://localhost:8080/",
          "height": 299
        },
        "outputId": "5458c3f3-0c76-4389-ec0a-b50f4c88fbaa"
      },
      "source": [
        "import matplotlib.pyplot as plt\n",
        "\n",
        "zc = np.arange(0,3*lambdac,lambdac/20);\n",
        "Envc = np.exp(-alphac*zc)\n",
        "Ezpc = Envc*np.cos(-betac*zc);\n",
        "plt.axis([0, 3, -1.2, 1.2])\n",
        "plt.xlabel('Distancia z/$\\lambda$')\n",
        "plt.ylabel('E (V/m)')\n",
        "plt.plot(zc/lambdac, Ezpc);\n",
        "plt.plot(zc/lambdac, Envc,'--');\n",
        "plt.legend(['E','Envolvente'])"
      ],
      "execution_count": null,
      "outputs": [
        {
          "output_type": "execute_result",
          "data": {
            "text/plain": [
              "<matplotlib.legend.Legend at 0x7f5e1b06d080>"
            ]
          },
          "metadata": {
            "tags": []
          },
          "execution_count": 7
        },
        {
          "output_type": "display_data",
          "data": {
            "image/png": "[encoded data removed]",
            "text/plain": [
              "<Figure size 432x288 with 1 Axes>"
            ]
          },
          "metadata": {
            "tags": [],
            "needs_background": "light"
          }
        }
      ]
    },
    {
      "cell_type": "markdown",
      "metadata": {
        "id": "bXP4uoDVlM_K",
        "colab_type": "text"
      },
      "source": [
        "## 5.Ejercicio interactivo: dependencia de la frecuencia.\n",
        "\n",
        "Se realizará un ejercicio interactivo. Se variará la frecuencia de la onda que atravieza un conductor como el cobre, para observar lo que ocurre.\n",
        "\n",
        "Características del cobre:\n",
        "- $\\epsilon_r = 1$\n",
        "- $\\mu_r = 1$\n",
        "- $\\sigma = 5.8 \\times 10^7$ [S/m]\n",
        "\n",
        "\n"
      ]
    },
    {
      "cell_type": "code",
      "metadata": {
        "id": "TzZVz4W8l6VN",
        "colab_type": "code",
        "cellView": "both",
        "colab": {
          "base_uri": "https://localhost:8080/",
          "height": 299
        },
        "outputId": "9983ecb2-7a9f-4a3a-a8e3-8bfa159a993d"
      },
      "source": [
        "frecuencia_PHz = 1001 #@param {type:\"slider\", min:1, max:10000, step:1000}\n",
        "omegai = 2*np.pi*frecuencia_PHz*1e15;\n",
        "tandi = sigmac/(omegai*ec);\n",
        "alphai = omegai*np.sqrt(uc*ec/2)*np.sqrt(np.sqrt(1+tandi**2)-1);\n",
        "betai  = omegai*np.sqrt(uc*ec/2)*np.sqrt(np.sqrt(1+tandi**2)+1);\n",
        "lambdai = 2*np.pi/betai;\n",
        "zi = np.arange(0,3*lambdai,lambdai/20);\n",
        "Envi = np.exp(-alphai*zi)\n",
        "Ezpi = Envi*np.cos(-betai*zi);\n",
        "plt.axis([0, 3, -1.2, 1.2])\n",
        "plt.xlabel('Distancia z/$\\lambda$'); plt.ylabel('E (V/m)')\n",
        "plt.plot(zi/lambdai, Ezpi);\n",
        "plt.plot(zi/lambdai, Envi,'--');\n",
        "plt.legend(['E','Envolvente'])\n",
        "print('tand   : %.4f' % tandi)"
      ],
      "execution_count": null,
      "outputs": [
        {
          "output_type": "stream",
          "text": [
            "tand   : 1.0415\n"
          ],
          "name": "stdout"
        },
        {
          "output_type": "display_data",
          "data": {
            "image/png": "[encoded data removed]",
            "text/plain": [
              "<Figure size 432x288 with 1 Axes>"
            ]
          },
          "metadata": {
            "tags": [],
            "needs_background": "light"
          }
        }
      ]
    },
    {
      "cell_type": "markdown",
      "metadata": {
        "id": "n7XdNuP8tsQi",
        "colab_type": "text"
      },
      "source": [
        "## Referencias\n",
        "\n",
        "- Engineering Electromagnetic Fields and Waves (Inglés) 2nd Edición. Carl T. A. Johnk."
      ]
    }
  ]
}