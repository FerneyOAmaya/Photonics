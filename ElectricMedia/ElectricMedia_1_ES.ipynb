{
 "cells": [
  {
   "cell_type": "markdown",
   "metadata": {},
   "source": [
    "# Dielectricos y conductores"
   ]
  },
  {
   "cell_type": "markdown",
   "metadata": {},
   "source": [
    "Para medios dieléctricos y conductores:\n",
    "$$\\gamma = \\alpha + j\\, \\beta$$ <br>\n",
    "donde:\n",
    "$$\\alpha = \\frac{\\omega \\sqrt{\\mu \\epsilon}}{\\sqrt{2}} \\left(\\sqrt{1 + \\left(\\frac{\\sigma}{\\omega \\epsilon}\\right)^2}-1 \\right)^{1/2}$$\n",
    "\n",
    "$$\\beta = \\frac{\\omega \\sqrt{\\mu \\epsilon}}{\\sqrt{2}} \\left(\\sqrt{1 + \\left(\\frac{\\sigma}{\\omega \\epsilon}\\right)^2}+1 \\right)^{1/2}$$\n",
    "\n",
    "donde: <br>\n",
    "- $\\gamma$ es la constante de propagación de la onda [1/m] <br>\n",
    "- $\\alpha$ es la constante de atenuación de la onda [1/m] <br>\n",
    "- $\\beta$ es la constante de fase de la onda [rad/m] \n",
    "- $\\omega$ es la frecuencia angular de la señal [rad/s] <br>\n",
    "- $\\sigma$ es la conductividad <br>\n",
    "- $\\epsilon$ es la permitividad del medio <br>\n",
    "- $\\mu$ es la permeabilidad del medio"
   ]
  },
  {
   "cell_type": "markdown",
   "metadata": {},
   "source": [
    "Para calcular las características de propagación de las ondas, primero debe determinarse si el medio se comporta como buen dieléctrico o buen conductor.\n",
    "Esto se realiza calculando la **tangente de pérdidas**:\n",
    "$$\\large tan \\, \\delta = \\frac{\\sigma}{\\omega \\epsilon}$$\n",
    "El valor de la tangente de perdidas determinará el comportamiento del material, si:\n",
    "- $tan \\, \\delta > 100$ el material se comporta como buen conductor <br>\n",
    "- $tan \\, \\delta < 1/100$ el material se comporta como buen dieléctrico <br>\n",
    "- En otro caso el material se comporta como buen semiconductor."
   ]
  },
  {
   "cell_type": "code",
   "execution_count": 7,
   "metadata": {},
   "outputs": [
    {
     "data": {
      "application/vnd.jupyter.widget-view+json": {
       "model_id": "5c0620eab7ec43cbb18c8886fc74743e",
       "version_major": 2,
       "version_minor": 0
      },
      "text/plain": [
       "interactive(children=(FloatSlider(value=0.9600000000000001, description='tand', max=2.0, min=0.01, step=0.05),…"
      ]
     },
     "metadata": {},
     "output_type": "display_data"
    }
   ],
   "source": [
    "%matplotlib inline\n",
    "from ipywidgets import interactive\n",
    "import matplotlib.pyplot as plt\n",
    "import numpy as np\n",
    "\n",
    "def f(tand):\n",
    "    e = 8.85e-12;\n",
    "    u = 1.26e-6;\n",
    "    sigma = 3e8;\n",
    "    omega = sigma/(tand*e);\n",
    "    alpha = omega*np.sqrt(u*e/2)*np.sqrt(np.sqrt(1+tand**2)-1);\n",
    "    beta  = omega*np.sqrt(u*e/2)*np.sqrt(np.sqrt(1+tand**2)+1);\n",
    "    lambd = 2*np.pi/beta;\n",
    "    z = np.arange(0,5*lambd,lambd/20);\n",
    "    Ezp = np.exp(-alpha*z)*np.cos(-beta*z);\n",
    "    plt.figure(3)\n",
    "    #x = np.linspace(-10, 10, num=1000)\n",
    "    plt.plot(z, Ezp)\n",
    "    #plt.ylim(-5, 5)\n",
    "    plt.show()\n",
    "    \n",
    "    \n",
    "interactive_plot = interactive(f, tand=(0.01, 2, 0.05))\n",
    "output = interactive_plot.children[-1]\n",
    "output.layout.height = '350px'\n",
    "interactive_plot\n"
   ]
  },
  {
   "cell_type": "markdown",
   "metadata": {},
   "source": [
    "Python en: https://facundoq.github.io/courses/aa2018/res/02_python.html"
   ]
  }
 ],
 "metadata": {
  "kernelspec": {
   "display_name": "Python 3",
   "language": "python",
   "name": "python3"
  },
  "language_info": {
   "codemirror_mode": {
    "name": "ipython",
    "version": 3
   },
   "file_extension": ".py",
   "mimetype": "text/x-python",
   "name": "python",
   "nbconvert_exporter": "python",
   "pygments_lexer": "ipython3",
   "version": "3.6.5"
  }
 },
 "nbformat": 4,
 "nbformat_minor": 2
}
