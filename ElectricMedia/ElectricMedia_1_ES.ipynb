{
 "cells": [
  {
   "cell_type": "markdown",
   "metadata": {},
   "source": [
    "# Dielectricos y conductores"
   ]
  },
  {
   "cell_type": "markdown",
   "metadata": {},
   "source": [
    "La ecuación para el campo eléctrico incidente de una onda polarizada linealmente para medios dieléctricos y conductores puede expresarse como:\n",
    "<br><br>\n",
    "$$\\large E(z,t) = e^{-\\alpha z} cos(\\omega t - \\beta z)$$<br>\n",
    "$$\\large \\gamma = \\alpha + j\\, \\beta$$ <br>\n",
    "donde:\n",
    "$$\\alpha = \\frac{\\omega \\sqrt{\\mu \\epsilon}}{\\sqrt{2}} \\left(\\sqrt{1 + \\left(\\frac{\\sigma}{\\omega \\epsilon}\\right)^2}-1 \\right)^{1/2}$$\n",
    "\n",
    "$$\\beta = \\frac{\\omega \\sqrt{\\mu \\epsilon}}{\\sqrt{2}} \\left(\\sqrt{1 + \\left(\\frac{\\sigma}{\\omega \\epsilon}\\right)^2}+1 \\right)^{1/2}$$\n",
    "\n",
    "- $\\gamma$ es la constante de propagación de la onda [1/m] <br>\n",
    "- $\\alpha$ es la constante de atenuación de la onda [1/m] <br>\n",
    "- $\\beta$ es la constante de fase de la onda [rad/m] \n",
    "- $\\omega$ es la frecuencia angular de la señal [rad/s] <br>\n",
    "- $\\sigma$ es la conductividad <br>\n",
    "- $\\epsilon$ es la permitividad del medio <br>\n",
    "- $\\mu$ es la permeabilidad del medio\n",
    "\n",
    "Otras ecuaciones:\n",
    "\n",
    "$$\\large v = \\lambda \\, f = \\frac{\\omega}{\\beta}$$<br>\n",
    "$$\\large \\beta = \\frac{2 \\, \\pi}{\\lambda}$$<br>\n",
    "$$\\large \\delta = \\frac{1}{\\alpha}$$\n",
    "donde: <br>\n",
    "- $v$ es la velocidad de propagación de la onda [m/s]<br>\n",
    "- $\\lambda$ es la longitud de onda [m] <br>\n",
    "- f es la frecuencia de la onda [Hz] <br>\n",
    "- $\\delta$ es la profundidad de penetración [m] <br>"
   ]
  },
  {
   "cell_type": "markdown",
   "metadata": {},
   "source": [
    "Para calcular las características de propagación de las ondas, primero debe determinarse si el medio se comporta como buen dieléctrico o buen conductor.\n",
    "Esto se realiza calculando la **tangente de pérdidas**:\n",
    "$$\\large tan \\, \\delta = \\frac{\\sigma}{\\omega \\epsilon}$$\n",
    "El valor de la tangente de perdidas determinará el comportamiento del material, si:\n",
    "- $tan \\, \\delta > 100$ el material se comporta como buen conductor <br>\n",
    "- $tan \\, \\delta < 1/100$ el material se comporta como buen dieléctrico <br>\n",
    "- En otro caso el material se comporta como buen semiconductor."
   ]
  },
  {
   "cell_type": "markdown",
   "metadata": {},
   "source": [
    "A continuación, para diferentes materiales, se graficará el Campo Eléctrico y se calcularán algunos valores.\n",
    "Para esto inicializaremos algunas variables:"
   ]
  },
  {
   "cell_type": "code",
   "execution_count": 1,
   "metadata": {},
   "outputs": [],
   "source": [
    "import numpy as np\n",
    "import matplotlib.pyplot as plt\n",
    "\n",
    "e0 = 8.85e-12;\n",
    "u0 = 1.26e-6;"
   ]
  },
  {
   "cell_type": "markdown",
   "metadata": {},
   "source": [
    "## Buen conductor\n",
    "Una onda de RF a través del cobre:\n",
    "- Frecuencia 1 GHz\n",
    "- $\\epsilon r = 1$\n",
    "- $\\mu r = 1$\n",
    "- $\\sigma = 5.8x10^7$ [S/m]"
   ]
  },
  {
   "cell_type": "code",
   "execution_count": 2,
   "metadata": {},
   "outputs": [],
   "source": [
    "f = 1e9;\n",
    "er = 1;\n",
    "ur = 1;\n",
    "sigma = 3e7;"
   ]
  },
  {
   "cell_type": "markdown",
   "metadata": {},
   "source": [
    "Algunos parámetros de la onda:"
   ]
  },
  {
   "cell_type": "code",
   "execution_count": 3,
   "metadata": {},
   "outputs": [
    {
     "name": "stdout",
     "output_type": "stream",
     "text": [
      "tand  : 539508281.6674418\n",
      "alpha : 344604.4139090245  1/m\n",
      "beta  : 344604.4145477625  rad/m\n",
      "lambd : 1.8233037772964254e-05  m\n",
      "v     : 18233.037772964253  m/s\n"
     ]
    }
   ],
   "source": [
    "omega = 2*np.pi*f;\n",
    "e = e0*er;\n",
    "u = u0*ur;\n",
    "tand = sigma/(omega*e);\n",
    "alpha = omega*np.sqrt(u*e/2)*np.sqrt(np.sqrt(1+tand**2)-1);\n",
    "beta  = omega*np.sqrt(u*e/2)*np.sqrt(np.sqrt(1+tand**2)+1);\n",
    "lambd = 2*np.pi/beta;\n",
    "v = lambd*f;\n",
    "\n",
    "print('tand  :',tand)\n",
    "print('alpha :',alpha,' 1/m')\n",
    "print('beta  :',beta, ' rad/m')\n",
    "print('lambd :',lambd, ' m')\n",
    "print('v     :',v, ' m/s')"
   ]
  },
  {
   "cell_type": "markdown",
   "metadata": {},
   "source": [
    "La gráfica del campo eléctrico en función de la distancia:"
   ]
  },
  {
   "cell_type": "code",
   "execution_count": 4,
   "metadata": {},
   "outputs": [
    {
     "data": {
      "image/png": "[encoded data removed]",
      "text/plain": [
       "<Figure size 432x288 with 1 Axes>"
      ]
     },
     "metadata": {
      "needs_background": "light"
     },
     "output_type": "display_data"
    }
   ],
   "source": [
    "z = np.arange(0,10*lambd,lambd/10);\n",
    "Ezp = np.exp(-alpha*z)*np.cos(-beta*z);\n",
    "plt.plot(z, Ezp);"
   ]
  },
  {
   "cell_type": "markdown",
   "metadata": {},
   "source": [
    "## Buen dieléctrico\n",
    "Una onda de RF a través de polietileno:\n",
    "- Frecuencia 1 kHz\n",
    "- $\\epsilon r = 2.6$\n",
    "- $\\mu r = 1$\n",
    "- $tand = 0.20x10^{-3}$"
   ]
  },
  {
   "cell_type": "code",
   "execution_count": 5,
   "metadata": {},
   "outputs": [],
   "source": [
    "f = 1e3;\n",
    "er = 1;\n",
    "ur = 1;\n",
    "tand = 0.2e-3;"
   ]
  },
  {
   "cell_type": "markdown",
   "metadata": {},
   "source": [
    "Algunos parámetros de la onda:"
   ]
  },
  {
   "cell_type": "code",
   "execution_count": 6,
   "metadata": {},
   "outputs": [
    {
     "name": "stdout",
     "output_type": "stream",
     "text": [
      "sigma  : 1.1121237993707868e-11  S/m\n",
      "alpha : 2.098151167172523e-09  1/m\n",
      "beta  : 2.0981511840390053e-05  rad/m\n",
      "lambd : 299462.9440898659  m\n",
      "v     : 299462944.0898659  m/s\n"
     ]
    }
   ],
   "source": [
    "omega = 2*np.pi*f;\n",
    "e = e0*er;\n",
    "u = u0*ur;\n",
    "sigma = tand*omega*e;\n",
    "alpha = omega*np.sqrt(u*e/2)*np.sqrt(np.sqrt(1+tand**2)-1);\n",
    "beta  = omega*np.sqrt(u*e/2)*np.sqrt(np.sqrt(1+tand**2)+1);\n",
    "lambd = 2*np.pi/beta;\n",
    "v = lambd*f;\n",
    "\n",
    "print('sigma  :',sigma, ' S/m')\n",
    "print('alpha :',alpha,' 1/m')\n",
    "print('beta  :',beta, ' rad/m')\n",
    "print('lambd :',lambd, ' m')\n",
    "print('v     :',v, ' m/s')"
   ]
  },
  {
   "cell_type": "markdown",
   "metadata": {},
   "source": [
    "La gráfica del campo eléctrico en función de la distancia:"
   ]
  },
  {
   "cell_type": "code",
   "execution_count": 7,
   "metadata": {},
   "outputs": [
    {
     "data": {
      "image/png": "[encoded data removed]",
      "text/plain": [
       "<Figure size 432x288 with 1 Axes>"
      ]
     },
     "metadata": {
      "needs_background": "light"
     },
     "output_type": "display_data"
    }
   ],
   "source": [
    "z = np.arange(0,10*lambd,lambd/10);\n",
    "Ezp = np.exp(-alpha*z)*np.cos(-beta*z);\n",
    "plt.plot(z, Ezp);"
   ]
  }
 ],
 "metadata": {
  "kernelspec": {
   "display_name": "Python 3",
   "language": "python",
   "name": "python3"
  },
  "language_info": {
   "codemirror_mode": {
    "name": "ipython",
    "version": 3
   },
   "file_extension": ".py",
   "mimetype": "text/x-python",
   "name": "python",
   "nbconvert_exporter": "python",
   "pygments_lexer": "ipython3",
   "version": "3.6.5"
  }
 },
 "nbformat": 4,
 "nbformat_minor": 2
}
