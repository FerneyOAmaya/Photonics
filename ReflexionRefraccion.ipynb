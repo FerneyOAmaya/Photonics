{
  "nbformat": 4,
  "nbformat_minor": 0,
  "metadata": {
    "colab": {
      "name": "RelexionRefraccion.ipynb",
      "provenance": [],
      "collapsed_sections": [],
      "toc_visible": true
    },
    "kernelspec": {
      "name": "python3",
      "display_name": "Python 3"
    }
  },
  "cells": [
    {
      "cell_type": "markdown",
      "metadata": {
        "id": "1PbpcgJvCKut",
        "colab_type": "text"
      },
      "source": [
        "[![Open In Colab](https://colab.research.google.com/assets/colab-badge.svg)](https://colab.research.google.com/github/FerneyOAmaya//Photonics/blob/master/ReflexionRefraccion.ipynb)\n",
        "\n",
        "# Reflexión y refracción\n",
        "\n",
        "Se analiza la reflexión y transmisión de ondas entre medios dieléctricos empleando la Ley de Snell y las Ecuaciones de Fresnel.\n",
        "\n",
        "Por:\n",
        "\n",
        "Ferney Amaya Fernández\n",
        "https://ferneyoamaya.github.io/\n",
        "\n",
        "\n",
        "Contenido:\n",
        "1. Reflexión y transmisión.\n",
        "2. Ángulos de reflexión y transmisión.\n",
        "3. Ecuaciones de Fresnel.\n",
        "4. Ejercicio interactivo.\n",
        "<br>Referencias."
      ]
    },
    {
      "cell_type": "markdown",
      "metadata": {
        "id": "f8mFofiwC1am",
        "colab_type": "text"
      },
      "source": [
        "## 1.Reflexión y transmisión.\n",
        "\n",
        "Para el estudio de la propagación de una onda electromagnética a través de medios, deben analizarse tres ondas:\n",
        "- Onda incidente: se designa con el subíndice $i$.\n",
        "- Onda reflejada: se designa con el subíndice $r$.\n",
        "- Onda transmitida o refractada: se designa con el subíndice $t$.\n",
        "\n",
        "Para conocer las características de las ondas reflejada y transferida se requiere conocer:\n",
        "- De la onda incidente su **frecuencia**  $\\omega_i$, su modo y su **ángulo de incidencia** $\\theta_i$ en la interface entre los medios. \n",
        "- De los medios requerimos conocer sus **índices de refracción** $n_1$ y $n_2$.\n",
        "\n",
        "En cuanto al modo, se requiere saber si la onda es TM (Transversal Megnética) o TE (Transversal Eléctrica).\n",
        "\n",
        "Debe tenerse en cuenta que los ángulos se medirán respecto a la normal.\n",
        "\n",
        "En a Tabla 1 se presentan las características de la onda que cambian cuando esta cambia de medio.\n",
        "\n",
        "|Característica|Cambia?|\n",
        "|:-|:-:|\n",
        "|Frecuencia|NO|\n",
        "|Amplitud|SI|\n",
        "|Velocidad fase|SI|\n",
        "|Longitud de onda|SI|\n",
        "|Ángulo|SI|\n",
        "\n",
        "<br>\n",
        "\n",
        "Como se observa en la tabla, la frecuencia de la onda no cambia:\n",
        "$$\\large \\omega_i = \\omega_r = \\omega_t$$\n",
        "\n",
        "\n",
        "\n",
        "\n",
        "\n",
        "\n"
      ]
    },
    {
      "cell_type": "markdown",
      "metadata": {
        "id": "x0RbmbSELOqi",
        "colab_type": "text"
      },
      "source": [
        "## 2.Ángulos de reflexión y transmisión.\n",
        "\n",
        "El ángulo de la onda incidente es igual al de la onda reflejada:\n",
        "$$\\large \\theta_i = \\theta_r$$\n",
        "\n",
        "Para calcular la relación entre los ángulos de la onda incidente y reflejada se emplea la Ley de Snell:\n",
        "\n",
        "$$\\large n_1 sin(\\theta_i) = n_2 sin(\\theta_t)$$\n",
        "<br>\n",
        "El **ángulo crítico** es el ángulo incidente a partir del cual no se tiene onda transferida o refractada, se calcula como:\n",
        "\n",
        "$$\\large \\theta_c = sin^{-1} (n_1 / n_2)$$"
      ]
    },
    {
      "cell_type": "markdown",
      "metadata": {
        "id": "MOgv_IKsN0Sj",
        "colab_type": "text"
      },
      "source": [
        "## 3.Ecuaciones de Fresnel.\n",
        "\n",
        "Las ecuaciones de Fresnel permiten calcular el cambio en intensidad de la onda al cambiar de medio.\n",
        "\n",
        "Los coeficientes de reflexión para los modos TM y TE se calculan de la siguiente forma:\n",
        "\n",
        "$$\\large r_{TM} = \\frac{n_2 cos \\theta_i - n_1 cos \\theta_t}{n_2 cos \\theta_i + n_1 cos \\theta_t}  $$ <br>\n",
        "\n",
        "$$\\large r_{TE} = \\frac{n_1 cos \\theta_i - n_2 cos \\theta_t}{n_1 cos \\theta_i + n_2 cos \\theta_t}  $$\n",
        "\n",
        "Los coeficientes de transmisión para los modos TM y TE se calculan de la siguiente forma:\n",
        "\n",
        "$$\\large t_{TM} = \\frac{2n_1 cos \\theta_i}{n_1 cos \\theta_t + n_2 cos \\theta_i}  $$ <br>\n",
        "\n",
        "$$\\large t_{TE} = \\frac{2n_1 cos \\theta_i}{n_1 cos \\theta_i + n_2 cos \\theta_i}  $$ <br>\n",
        "\n",
        "La reflectividad para los modos TM y TE:\n",
        "\n",
        "$$\\large R_{TM} = |r_{TM}|^2  $$ <br>\n",
        "$$\\large R_{TE} = |r_{TE}|^2  $$ <br>\n",
        "\n",
        "La tramitancia para los modos TM y TE debe cumplir:\n",
        "\n",
        "$$\\large R_{TM} + T_{TM}  = 1 $$ <br>\n",
        "$$\\large R_{TE} + T_{TE}  = 1 $$ <br>\n",
        "\n",
        "Como puede observarse, la reflectividad y la tramitancia varían entre 0 y 1, representando la proporción de onda transferida o reflejada."
      ]
    },
    {
      "cell_type": "markdown",
      "metadata": {
        "id": "vp8kG2-bx-z_",
        "colab_type": "text"
      },
      "source": [
        "**Ejercicios**\n",
        "\n",
        "1. ¿Existe $sin^{-1}(2)$?\n",
        "2. Calcular el ángulo de transmisión y el ángulo crítico en los siguientes casos:\n",
        " - La onda pasa del aire a vidrio ($n=1.5$) y el ángulo de incidencia es de 10°.\n",
        " - La onda pasa del vidrio al aire y el ángulo de incidencia es de 10°.\n",
        " - La onda pasa del vidrio al aire y el ángulo de incidencia es de 60°.\n",
        "\n",
        "¿Qué puede concluir?"
      ]
    },
    {
      "cell_type": "markdown",
      "metadata": {
        "id": "P88gK-c4ELdY",
        "colab_type": "text"
      },
      "source": [
        "## 4.Ejercicio interactivo.\n",
        "\n",
        "En el siguiente ejercicio se presenta como varía la onda reflejada dependiendo del ángulo incidente y del índice de refracción del segundo medio.\n",
        "\n",
        "Se asume que la onda se propaga a través del vidrio ($n_1=1.5$) y pasa a otro medio en el cual puede cambiarse el índice de refracción.\n"
      ]
    },
    {
      "cell_type": "code",
      "metadata": {
        "id": "j4AjtsYVzOQ9",
        "colab_type": "code",
        "cellView": "form",
        "colab": {
          "base_uri": "https://localhost:8080/",
          "height": 359
        },
        "outputId": "95aeec99-50e8-4a09-8d4a-81f618f1e989"
      },
      "source": [
        "import matplotlib.patches as mpatches\n",
        "import matplotlib.pyplot as plt\n",
        "import numpy as np\n",
        "Angulo_i = 35  #@param {type: \"slider\", min: 0, max: 90}\n",
        "n2 = 1  #@param {type: \"slider\", min: 1, max: 2, step:0.1}\n",
        "\n",
        "n1 = 1.5\n",
        "ai = Angulo_i*np.pi/180\n",
        "\n",
        "if n1>n2:\n",
        "  #La onda se contiene\n",
        "  ac = np.arcsin(n2/n1)\n",
        "  ac_graph = ac\n",
        "  ac_text = 'Ángulo crítico: {:.1f}°'.format(ac*180/np.pi)\n",
        "  if ai < ac:\n",
        "    at = np.arcsin(n1*np.sin(ai)/n2)\n",
        "  else:\n",
        "    at = np.pi/2\n",
        "else:\n",
        "   #La onda NO se contiene\n",
        "   ac_graph = -np.pi/2\n",
        "   ac_text = 'Ángulo crítico: No aplica'\n",
        "   at = np.arcsin(n1*np.sin(ai)/n2)\n",
        "\n",
        "ai_text = 'Ángulo incidencia : {:.1f}°'.format(ai*180/np.pi)\n",
        "at_text = 'Ángulo transmitido: {:.1f}°'.format(at*180/np.pi)\n",
        "tit_text = ai_text + '\\n' + ac_text + '\\n' + at_text \n",
        "\n",
        "yi = np.cos(ai)\n",
        "xi = np.sin(ai)\n",
        "yr = np.cos(at)\n",
        "xr = np.sin(at)\n",
        "\n",
        "fig, ax = plt.subplots(figsize=(5,5))\n",
        "\n",
        "wed_sem = mpatches.Wedge((0, 0), 0.5, 0, 180, color='#d187f5', alpha=0.3)\n",
        "wed_cri = mpatches.Wedge((0, 0), 0.5, 90+ac_graph*180/np.pi, 180, color='b', alpha=0.3)\n",
        "ax.add_patch(wed_sem)\n",
        "ax.add_patch(wed_cri)\n",
        "\n",
        "ax.plot([-np.abs(xi),0],[np.abs(yi),0],'r',lw=2)\n",
        "ax.plot([np.abs(xr),0],[-np.abs(yr),0],'r',lw=2)\n",
        "ax.plot([-1.2,1.2],[0,0],'k--')\n",
        "ax.plot([0,0],[1.2,-1.2],'k--')\n",
        "ax.axis([-1.2,1.2,-1.2,1.2])\n",
        "ax.set_title(tit_text, fontsize=14)\n",
        "ax.axis('off')\n",
        "fig.show()"
      ],
      "execution_count": 4,
      "outputs": [
        {
          "output_type": "display_data",
          "data": {
            "image/png": "[encoded data removed]",
            "text/plain": [
              "<Figure size 360x360 with 1 Axes>"
            ]
          },
          "metadata": {
            "tags": [],
            "needs_background": "light"
          }
        }
      ]
    }
  ]
}